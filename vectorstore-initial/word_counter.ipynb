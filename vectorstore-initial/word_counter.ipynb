{
 "cells": [
  {
   "cell_type": "code",
   "execution_count": 1,
   "metadata": {},
   "outputs": [],
   "source": [
    "import os"
   ]
  },
  {
   "cell_type": "code",
   "execution_count": 7,
   "metadata": {},
   "outputs": [
    {
     "name": "stdout",
     "output_type": "stream",
     "text": [
      "['D:\\\\python-projects\\\\llama-2\\\\cbsl-data-collector\\\\Extracted-text-data\\\\ABOUT\\\\About the Bank', 'D:\\\\python-projects\\\\llama-2\\\\cbsl-data-collector\\\\Extracted-text-data\\\\ABOUT\\\\Bank Premises', 'D:\\\\python-projects\\\\llama-2\\\\cbsl-data-collector\\\\Extracted-text-data\\\\ABOUT\\\\Organisational Structure', 'D:\\\\python-projects\\\\llama-2\\\\cbsl-data-collector\\\\Extracted-text-data\\\\ABOUT US\\\\Careers', 'D:\\\\python-projects\\\\llama-2\\\\cbsl-data-collector\\\\Extracted-text-data\\\\ABOUT US\\\\Contact us', 'D:\\\\python-projects\\\\llama-2\\\\cbsl-data-collector\\\\Extracted-text-data\\\\ABOUT US\\\\FAQ', 'D:\\\\python-projects\\\\llama-2\\\\cbsl-data-collector\\\\Extracted-text-data\\\\ABOUT US\\\\Forms & Downloads', 'D:\\\\python-projects\\\\llama-2\\\\cbsl-data-collector\\\\Extracted-text-data\\\\ABOUT US\\\\Glossary', 'D:\\\\python-projects\\\\llama-2\\\\cbsl-data-collector\\\\Extracted-text-data\\\\ABOUT US\\\\Privacy', 'D:\\\\python-projects\\\\llama-2\\\\cbsl-data-collector\\\\Extracted-text-data\\\\ABOUT US\\\\Right to Information', 'D:\\\\python-projects\\\\llama-2\\\\cbsl-data-collector\\\\Extracted-text-data\\\\ABOUT US\\\\Sitemap', 'D:\\\\python-projects\\\\llama-2\\\\cbsl-data-collector\\\\Extracted-text-data\\\\ABOUT US\\\\Tender Notices', 'D:\\\\python-projects\\\\llama-2\\\\cbsl-data-collector\\\\Extracted-text-data\\\\FINANCIAL SYSTEM\\\\Financial Infrastructure', 'D:\\\\python-projects\\\\llama-2\\\\cbsl-data-collector\\\\Extracted-text-data\\\\FINANCIAL SYSTEM\\\\Financial Markets', 'D:\\\\python-projects\\\\llama-2\\\\cbsl-data-collector\\\\Extracted-text-data\\\\FINANCIAL SYSTEM\\\\Financial System Stability', 'D:\\\\python-projects\\\\llama-2\\\\cbsl-data-collector\\\\Extracted-text-data\\\\FINANCIAL SYSTEM\\\\Instruments & Implementation', 'D:\\\\python-projects\\\\llama-2\\\\cbsl-data-collector\\\\Extracted-text-data\\\\LAWS\\\\Acts', 'D:\\\\python-projects\\\\llama-2\\\\cbsl-data-collector\\\\Extracted-text-data\\\\LAWS\\\\Consultation Papers', 'D:\\\\python-projects\\\\llama-2\\\\cbsl-data-collector\\\\Extracted-text-data\\\\LAWS\\\\Directions, Circulars and Guidelines', 'D:\\\\python-projects\\\\llama-2\\\\cbsl-data-collector\\\\Extracted-text-data\\\\LAWS\\\\Licensing, Registration, Appointment and Authorisation Procedures', 'D:\\\\python-projects\\\\llama-2\\\\cbsl-data-collector\\\\Extracted-text-data\\\\MONETARY POLICY\\\\About Monetary Policy', 'D:\\\\python-projects\\\\llama-2\\\\cbsl-data-collector\\\\Extracted-text-data\\\\MONETARY POLICY\\\\Instruments & Implementation', 'D:\\\\python-projects\\\\llama-2\\\\cbsl-data-collector\\\\Extracted-text-data\\\\MONETARY POLICY\\\\Monetary Policy Communication', 'D:\\\\python-projects\\\\llama-2\\\\cbsl-data-collector\\\\Extracted-text-data\\\\More Services', 'D:\\\\python-projects\\\\llama-2\\\\cbsl-data-collector\\\\Extracted-text-data\\\\NOTES & COINS\\\\Damaged Notes and Counterfeits', 'D:\\\\python-projects\\\\llama-2\\\\cbsl-data-collector\\\\Extracted-text-data\\\\NOTES & COINS\\\\Notes & Coins', 'D:\\\\python-projects\\\\llama-2\\\\cbsl-data-collector\\\\Extracted-text-data\\\\PRESS\\\\Media', 'D:\\\\python-projects\\\\llama-2\\\\cbsl-data-collector\\\\Extracted-text-data\\\\PRESS\\\\Press Releases', 'D:\\\\python-projects\\\\llama-2\\\\cbsl-data-collector\\\\Extracted-text-data\\\\PUBLICATIONS\\\\Economic and Financial Reports', 'D:\\\\python-projects\\\\llama-2\\\\cbsl-data-collector\\\\Extracted-text-data\\\\PUBLICATIONS\\\\Education', 'D:\\\\python-projects\\\\llama-2\\\\cbsl-data-collector\\\\Extracted-text-data\\\\PUBLICATIONS\\\\Other Publications', 'D:\\\\python-projects\\\\llama-2\\\\cbsl-data-collector\\\\Extracted-text-data\\\\PUBLICATIONS\\\\Periodicals', 'D:\\\\python-projects\\\\llama-2\\\\cbsl-data-collector\\\\Extracted-text-data\\\\RESEARCH\\\\Research', 'D:\\\\python-projects\\\\llama-2\\\\cbsl-data-collector\\\\Extracted-text-data\\\\STATISTICS\\\\Business Surveys', 'D:\\\\python-projects\\\\llama-2\\\\cbsl-data-collector\\\\Extracted-text-data\\\\STATISTICS\\\\Data', 'D:\\\\python-projects\\\\llama-2\\\\cbsl-data-collector\\\\Extracted-text-data\\\\STATISTICS\\\\Economic Indicators', 'D:\\\\python-projects\\\\llama-2\\\\cbsl-data-collector\\\\Extracted-text-data\\\\STATISTICS\\\\Statistical Tables']\n"
     ]
    }
   ],
   "source": [
    "source_path = 'D:\\python-projects\\llama-2\\cbsl-data-collector\\Extracted-text-data'\n",
    "vectorstore_paths = []\n",
    "\n",
    "level_1 = os.listdir(source_path)\n",
    "\n",
    "# Filter out only the folders\n",
    "level_1_folders = [item for item in level_1 if os.path.isdir(os.path.join(source_path, item))]\n",
    "\n",
    "for l1_folder in level_1_folders:\n",
    "    l2_path = os.path.join(source_path, l1_folder)\n",
    "    \n",
    "    level_2 = os.listdir(l2_path)\n",
    "    level_2_folders = [item for item in level_2 if os.path.isdir(os.path.join(l2_path, item))]\n",
    "\n",
    "    # Filter out only the files\n",
    "    level_2_files = [item for item in level_2 if os.path.isfile(os.path.join(l2_path, item))]\n",
    "\n",
    "    if len(level_2_folders) == 0:\n",
    "        vectorstore_paths.append(l2_path)\n",
    "\n",
    "    else:\n",
    "        for l2_folder in level_2_folders:\n",
    "            vectorstore_paths.append(os.path.join(l2_path, l2_folder))\n",
    "\n",
    "print(vectorstore_paths)"
   ]
  },
  {
   "cell_type": "code",
   "execution_count": null,
   "metadata": {},
   "outputs": [],
   "source": [
    "import nltk\n",
    "from collections import Counter\n",
    "\n",
    "# Download NLTK resources (run this only once)\n",
    "nltk.download('punkt')\n",
    "nltk.download('stopwords')\n",
    "\n",
    "# List of stop words\n",
    "stop_words = set(nltk.corpus.stopwords.words('english'))\n",
    "\n",
    "def count_words(folder_path):\n",
    "    # Initialize counter to store keyword counts\n",
    "    keyword_counts = Counter()\n",
    "\n",
    "    # Iterate through each file in the folder\n",
    "    for filename in os.listdir(folder_path):\n",
    "        if filename.endswith('.txt'):  # Assuming files are text files\n",
    "            file_path = os.path.join(folder_path, filename)\n",
    "            with open(file_path, 'r', encoding='utf-8') as file:\n",
    "                text = file.read().lower()  # Read file content and convert to lowercase\n",
    "                # Tokenize text into words\n",
    "                words = nltk.word_tokenize(text)\n",
    "                # Filter out stop words and non-significant words\n",
    "                keywords = [word for word in words if word.isalnum() and word not in stop_words]\n",
    "                # Update keyword counts\n",
    "                keyword_counts.update(keywords)\n",
    "\n",
    "    # Display keyword counts\n",
    "    for keyword, count in keyword_counts.most_common():\n",
    "        print(f'{keyword}: {count}')\n",
    "\n",
    "    return dict(keyword_counts)\n"
   ]
  }
 ],
 "metadata": {
  "kernelspec": {
   "display_name": "llama-2-hf",
   "language": "python",
   "name": "python3"
  },
  "language_info": {
   "codemirror_mode": {
    "name": "ipython",
    "version": 3
   },
   "file_extension": ".py",
   "mimetype": "text/x-python",
   "name": "python",
   "nbconvert_exporter": "python",
   "pygments_lexer": "ipython3",
   "version": "3.11.4"
  }
 },
 "nbformat": 4,
 "nbformat_minor": 2
}
