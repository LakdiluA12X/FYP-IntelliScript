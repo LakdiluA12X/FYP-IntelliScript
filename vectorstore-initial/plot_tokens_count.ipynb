{
 "cells": [
  {
   "cell_type": "code",
   "execution_count": null,
   "metadata": {},
   "outputs": [],
   "source": [
    "import json\n",
    "import matplotlib.pyplot as plt"
   ]
  },
  {
   "cell_type": "code",
   "execution_count": null,
   "metadata": {},
   "outputs": [],
   "source": [
    "pdf_json_file = ''\n",
    "excel_json_file = ''\n",
    "\n",
    "with open(pdf_json_file, 'r') as pdffile:\n",
    "    pdf_token_data = json.load(pdffile)\n",
    "\n",
    "with open(excel_json_file, 'r') as excelfile:\n",
    "    excel_token_data = json.load(excelfile)"
   ]
  },
  {
   "cell_type": "code",
   "execution_count": null,
   "metadata": {},
   "outputs": [],
   "source": [
    "pdf_tokens_list = list(pdf_token_data.values())\n",
    "excel_tokens_list = []\n",
    "\n",
    "for k in excel_token_data:\n",
    "    excel_tokens_list.extend(list(excel_token_data[k].values()))"
   ]
  },
  {
   "cell_type": "code",
   "execution_count": null,
   "metadata": {},
   "outputs": [],
   "source": [
    "\n",
    "# Create a histogram with bins of size 100\n",
    "plt.hist(pdf_tokens_list, bins=range(0, max(pdf_tokens_list) + 100, 100), edgecolor='black')\n",
    "\n",
    "# Set the labels and title\n",
    "plt.xlabel('Tokens count')\n",
    "plt.ylabel('Frequency')\n",
    "plt.title('Frequency of Values in Tokens count of 100')\n",
    "\n",
    "# Show the plot\n",
    "plt.show()\n"
   ]
  },
  {
   "cell_type": "code",
   "execution_count": null,
   "metadata": {},
   "outputs": [],
   "source": [
    "\n",
    "# Create a histogram with bins of size 100\n",
    "plt.hist(excel_tokens_list, bins=range(0, max(excel_tokens_list) + 100, 100), edgecolor='black')\n",
    "\n",
    "# Set the labels and title\n",
    "plt.xlabel('Tokens count')\n",
    "plt.ylabel('Frequency')\n",
    "plt.title('Frequency of Values in Tokens count of 100')\n",
    "\n",
    "# Show the plot\n",
    "plt.show()"
   ]
  }
 ],
 "metadata": {
  "language_info": {
   "name": "python"
  }
 },
 "nbformat": 4,
 "nbformat_minor": 2
}
